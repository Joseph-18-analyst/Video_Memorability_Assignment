{
  "nbformat": 4,
  "nbformat_minor": 0,
  "metadata": {
    "colab": {
      "name": "Predicting_memorability_machine_learning.ipynb",
      "provenance": [],
      "collapsed_sections": []
    },
    "kernelspec": {
      "name": "python3",
      "display_name": "Python 3"
    }
  },
  "cells": [
    {
      "cell_type": "code",
      "metadata": {
        "id": "xyn4EJcy6TKt",
        "colab_type": "code",
        "outputId": "e56e6c62-2ddb-40d0-cfb4-83f2a0ade1d6",
        "colab": {
          "base_uri": "https://localhost:8080/",
          "height": 34
        }
      },
      "source": [
        "from google.colab import drive\n",
        "\n",
        "drive.mount('/content/drive/')\n"
      ],
      "execution_count": 85,
      "outputs": [
        {
          "output_type": "stream",
          "text": [
            "Drive already mounted at /content/drive/; to attempt to forcibly remount, call drive.mount(\"/content/drive/\", force_remount=True).\n"
          ],
          "name": "stdout"
        }
      ]
    },
    {
      "cell_type": "code",
      "metadata": {
        "colab_type": "code",
        "id": "6km1lWMF2kAm",
        "outputId": "fb888b71-ccd9-448d-f9b0-5f24f62c038b",
        "colab": {
          "base_uri": "https://localhost:8080/",
          "height": 34
        }
      },
      "source": [
        "\n",
        "!pip install pyprind\n"
      ],
      "execution_count": 86,
      "outputs": [
        {
          "output_type": "stream",
          "text": [
            "Requirement already satisfied: pyprind in /usr/local/lib/python3.6/dist-packages (2.11.2)\n"
          ],
          "name": "stdout"
        }
      ]
    },
    {
      "cell_type": "code",
      "metadata": {
        "id": "thcSbUggmFmz",
        "colab_type": "code",
        "colab": {}
      },
      "source": [
        "import pandas as pd\n",
        "\n",
        "from tensorflow.python.keras import Sequential\n",
        "from tensorflow.python.keras import layers\n",
        "from tensorflow.python.keras import regularizers\n",
        "from tensorflow.python.keras.preprocessing.text import Tokenizer\n",
        "\n",
        "import numpy as np\n",
        "from string import punctuation\n",
        "import pyprind\n",
        "from collections import Counter\n",
        "from sklearn.model_selection import train_test_split\n",
        "import matplotlib.pyplot as plt"
      ],
      "execution_count": 0,
      "outputs": []
    },
    {
      "cell_type": "code",
      "metadata": {
        "id": "vCzGGyf0aZ8S",
        "colab_type": "code",
        "colab": {}
      },
      "source": [
        "import glob\n",
        "import nltk\n",
        "from nltk.stem import PorterStemmer\n",
        "from nltk.stem import LancasterStemmer\n",
        "from sklearn.model_selection import train_test_split\n",
        "from sklearn.feature_extraction.text import CountVectorizer\n",
        "from sklearn.feature_extraction.text import TfidfVectorizer\n",
        "from collections import Counter\n",
        "#from keras.preprocessing.text import Tokenizer\n",
        "\n"
      ],
      "execution_count": 0,
      "outputs": []
    },
    {
      "cell_type": "code",
      "metadata": {
        "id": "QnX9-5Tp5kmV",
        "colab_type": "code",
        "colab": {}
      },
      "source": [
        "from keras import layers\n",
        "from keras.layers import Dropout"
      ],
      "execution_count": 0,
      "outputs": []
    },
    {
      "cell_type": "code",
      "metadata": {
        "id": "NKnDKn9b6Hyw",
        "colab_type": "code",
        "colab": {}
      },
      "source": [
        "import os\n",
        "os.chdir('/content/drive/My Drive/CA684_Assignment/')"
      ],
      "execution_count": 0,
      "outputs": []
    },
    {
      "cell_type": "code",
      "metadata": {
        "id": "sP3p8u1InSdg",
        "colab_type": "code",
        "colab": {}
      },
      "source": [
        "# for reproducability\n",
        "from numpy.random import seed\n",
        "seed(1)\n",
        "import tensorflow\n",
        "tensorflow.random.set_seed(1)"
      ],
      "execution_count": 0,
      "outputs": []
    },
    {
      "cell_type": "code",
      "metadata": {
        "id": "Aa0DA1EonpAV",
        "colab_type": "code",
        "colab": {}
      },
      "source": [
        "# load labels and captions\n",
        "# Function to load the captions into dataframes\n",
        "def read_caps(fname):\n",
        "    \"\"\"Load the captions into a dataframe\"\"\"\n",
        "    vn = []\n",
        "    cap = []\n",
        "    df = pd.DataFrame();\n",
        "    with open(fname) as f:\n",
        "        for line in f:\n",
        "            pairs = line.split()\n",
        "            vn.append(pairs[0])\n",
        "            cap.append(pairs[1])\n",
        "        df['video']=vn\n",
        "        df['caption']=cap\n",
        "    return df\n",
        "\n",
        "\n",
        "# load the captions\n",
        "cap_path = '/content/drive/My Drive/CA684_Assignment/Dev-set/Captions/dev-set_video-captions.txt'\n",
        "df_cap = read_caps(cap_path)\n",
        "\n",
        "# load the ground truth values\n",
        "\n",
        "labels = pd.read_csv('/content/drive/My Drive/CA684_Assignment/Dev-set/Ground-truth/ground-truth.csv')"
      ],
      "execution_count": 0,
      "outputs": []
    },
    {
      "cell_type": "code",
      "metadata": {
        "id": "pQWc24tvLxBe",
        "colab_type": "code",
        "outputId": "330dce57-4e86-4de7-b911-6416db489097",
        "colab": {
          "base_uri": "https://localhost:8080/",
          "height": 252
        }
      },
      "source": [
        "print(df_cap)"
      ],
      "execution_count": 93,
      "outputs": [
        {
          "output_type": "stream",
          "text": [
            "               video                                            caption\n",
            "0        video3.webm                 blonde-woman-is-massaged-tilt-down\n",
            "1        video4.webm  roulette-table-spinning-with-ball-in-closeup-shot\n",
            "2        video6.webm                                      khr-gangsters\n",
            "3        video8.webm               medical-helicopter-hovers-at-airport\n",
            "4       video10.webm               couple-relaxing-on-picnic-crane-shot\n",
            "...              ...                                                ...\n",
            "5995  video7488.webm        beautiful-young-woman-in-front-of-fountains\n",
            "5996  video7489.webm  focus-pull-from-molting-penguin-to-penguin-col...\n",
            "5997  video7491.webm           students-walking-in-university-of-mexico\n",
            "5998  video7492.webm                       beautiful-black-woman-at-spa\n",
            "5999  video7493.webm  beautiful-modern-brunette-woman-using-tablet-c...\n",
            "\n",
            "[6000 rows x 2 columns]\n"
          ],
          "name": "stdout"
        }
      ]
    },
    {
      "cell_type": "code",
      "metadata": {
        "id": "_nuZw7S30k7Q",
        "colab_type": "code",
        "outputId": "876f6b49-8f2f-4e7d-b585-e0a6ba167d86",
        "colab": {
          "base_uri": "https://localhost:8080/",
          "height": 195
        }
      },
      "source": [
        "df_cap.head()\n",
        "\n"
      ],
      "execution_count": 94,
      "outputs": [
        {
          "output_type": "execute_result",
          "data": {
            "text/html": [
              "<div>\n",
              "<style scoped>\n",
              "    .dataframe tbody tr th:only-of-type {\n",
              "        vertical-align: middle;\n",
              "    }\n",
              "\n",
              "    .dataframe tbody tr th {\n",
              "        vertical-align: top;\n",
              "    }\n",
              "\n",
              "    .dataframe thead th {\n",
              "        text-align: right;\n",
              "    }\n",
              "</style>\n",
              "<table border=\"1\" class=\"dataframe\">\n",
              "  <thead>\n",
              "    <tr style=\"text-align: right;\">\n",
              "      <th></th>\n",
              "      <th>video</th>\n",
              "      <th>caption</th>\n",
              "    </tr>\n",
              "  </thead>\n",
              "  <tbody>\n",
              "    <tr>\n",
              "      <th>0</th>\n",
              "      <td>video3.webm</td>\n",
              "      <td>blonde-woman-is-massaged-tilt-down</td>\n",
              "    </tr>\n",
              "    <tr>\n",
              "      <th>1</th>\n",
              "      <td>video4.webm</td>\n",
              "      <td>roulette-table-spinning-with-ball-in-closeup-shot</td>\n",
              "    </tr>\n",
              "    <tr>\n",
              "      <th>2</th>\n",
              "      <td>video6.webm</td>\n",
              "      <td>khr-gangsters</td>\n",
              "    </tr>\n",
              "    <tr>\n",
              "      <th>3</th>\n",
              "      <td>video8.webm</td>\n",
              "      <td>medical-helicopter-hovers-at-airport</td>\n",
              "    </tr>\n",
              "    <tr>\n",
              "      <th>4</th>\n",
              "      <td>video10.webm</td>\n",
              "      <td>couple-relaxing-on-picnic-crane-shot</td>\n",
              "    </tr>\n",
              "  </tbody>\n",
              "</table>\n",
              "</div>"
            ],
            "text/plain": [
              "          video                                            caption\n",
              "0   video3.webm                 blonde-woman-is-massaged-tilt-down\n",
              "1   video4.webm  roulette-table-spinning-with-ball-in-closeup-shot\n",
              "2   video6.webm                                      khr-gangsters\n",
              "3   video8.webm               medical-helicopter-hovers-at-airport\n",
              "4  video10.webm               couple-relaxing-on-picnic-crane-shot"
            ]
          },
          "metadata": {
            "tags": []
          },
          "execution_count": 94
        }
      ]
    },
    {
      "cell_type": "code",
      "metadata": {
        "id": "vznIE1Or1xcj",
        "colab_type": "code",
        "outputId": "7be8cc88-e7de-422d-b058-6b47d0b61343",
        "colab": {
          "base_uri": "https://localhost:8080/",
          "height": 118
        }
      },
      "source": [
        "df_cap['video'].head()"
      ],
      "execution_count": 95,
      "outputs": [
        {
          "output_type": "execute_result",
          "data": {
            "text/plain": [
              "0     video3.webm\n",
              "1     video4.webm\n",
              "2     video6.webm\n",
              "3     video8.webm\n",
              "4    video10.webm\n",
              "Name: video, dtype: object"
            ]
          },
          "metadata": {
            "tags": []
          },
          "execution_count": 95
        }
      ]
    },
    {
      "cell_type": "code",
      "metadata": {
        "id": "DbHTFUDPMA33",
        "colab_type": "code",
        "outputId": "52f47f38-1c1a-4147-cecb-06dcce86b60b",
        "colab": {
          "base_uri": "https://localhost:8080/",
          "height": 252
        }
      },
      "source": [
        "print(labels)"
      ],
      "execution_count": 96,
      "outputs": [
        {
          "output_type": "stream",
          "text": [
            "               video  ...  nb_long-term_annotations\n",
            "0        video3.webm  ...                        13\n",
            "1        video4.webm  ...                        12\n",
            "2        video6.webm  ...                        10\n",
            "3        video8.webm  ...                        11\n",
            "4       video10.webm  ...                        10\n",
            "...              ...  ...                       ...\n",
            "5995  video7488.webm  ...                         9\n",
            "5996  video7489.webm  ...                        31\n",
            "5997  video7491.webm  ...                        11\n",
            "5998  video7492.webm  ...                        16\n",
            "5999  video7493.webm  ...                        13\n",
            "\n",
            "[6000 rows x 5 columns]\n"
          ],
          "name": "stdout"
        }
      ]
    },
    {
      "cell_type": "code",
      "metadata": {
        "id": "uTwlAhPUNwy0",
        "colab_type": "code",
        "colab": {}
      },
      "source": [
        "def Get_score(Y_pred,Y_true):\n",
        "    '''Calculate the Spearmann\"s correlation coefficient'''\n",
        "    Y_pred = np.squeeze(Y_pred)\n",
        "    Y_true = np.squeeze(Y_true)\n",
        "    if Y_pred.shape != Y_true.shape:\n",
        "        print('Input shapes don\\'t match!')\n",
        "    else:\n",
        "        if len(Y_pred.shape) == 1:\n",
        "            Res = pd.DataFrame({'Y_true':Y_true,'Y_pred':Y_pred})\n",
        "            score_mat = Res[['Y_true','Y_pred']].corr(method='spearman',min_periods=1)\n",
        "            print('The Spearman\\'s correlation coefficient is: %.3f' % score_mat.iloc[1][0])\n",
        "        else:\n",
        "            for ii in range(Y_pred.shape[1]):\n",
        "                Get_score(Y_pred[:,ii],Y_true[:,ii])"
      ],
      "execution_count": 0,
      "outputs": []
    },
    {
      "cell_type": "code",
      "metadata": {
        "id": "YrDW9oCQ8Xz4",
        "colab_type": "code",
        "colab": {}
      },
      "source": [
        "#Function_load C3D features\n",
        "def load_c3d(captions, c3dPath):\n",
        "    files_list = list(captions[\"video\"].values)\n",
        "    c3dfeatures = []\n",
        "    for file in files_list:\n",
        "        file = c3dPath+file[:-4]+'txt'\n",
        "        c3dfeatures.append(np.loadtxt(file))\n",
        "    #print(type(c3dfeatures))\n",
        "    return c3dfeatures"
      ],
      "execution_count": 0,
      "outputs": []
    },
    {
      "cell_type": "code",
      "metadata": {
        "id": "Uh3sMl2i9bOT",
        "colab_type": "code",
        "colab": {}
      },
      "source": [
        "#load C3D features\n",
        "c3dPath = '/content/drive/My Drive/CA684_Assignment/Dev-set/C3D'\n"
      ],
      "execution_count": 0,
      "outputs": []
    },
    {
      "cell_type": "code",
      "metadata": {
        "id": "IZ_g_BdMU315",
        "colab_type": "code",
        "outputId": "19714db2-7349-450a-8d07-af3af62af6f5",
        "colab": {
          "base_uri": "https://localhost:8080/",
          "height": 402
        }
      },
      "source": [
        "#merging the captions and ground thruth values\n",
        "df_merge = df_cap.merge(labels,on=[\"video\"],how=\"inner\")\n",
        "df_merge"
      ],
      "execution_count": 100,
      "outputs": [
        {
          "output_type": "execute_result",
          "data": {
            "text/html": [
              "<div>\n",
              "<style scoped>\n",
              "    .dataframe tbody tr th:only-of-type {\n",
              "        vertical-align: middle;\n",
              "    }\n",
              "\n",
              "    .dataframe tbody tr th {\n",
              "        vertical-align: top;\n",
              "    }\n",
              "\n",
              "    .dataframe thead th {\n",
              "        text-align: right;\n",
              "    }\n",
              "</style>\n",
              "<table border=\"1\" class=\"dataframe\">\n",
              "  <thead>\n",
              "    <tr style=\"text-align: right;\">\n",
              "      <th></th>\n",
              "      <th>video</th>\n",
              "      <th>caption</th>\n",
              "      <th>short-term_memorability</th>\n",
              "      <th>nb_short-term_annotations</th>\n",
              "      <th>long-term_memorability</th>\n",
              "      <th>nb_long-term_annotations</th>\n",
              "    </tr>\n",
              "  </thead>\n",
              "  <tbody>\n",
              "    <tr>\n",
              "      <th>0</th>\n",
              "      <td>video3.webm</td>\n",
              "      <td>blonde-woman-is-massaged-tilt-down</td>\n",
              "      <td>0.924</td>\n",
              "      <td>34</td>\n",
              "      <td>0.846</td>\n",
              "      <td>13</td>\n",
              "    </tr>\n",
              "    <tr>\n",
              "      <th>1</th>\n",
              "      <td>video4.webm</td>\n",
              "      <td>roulette-table-spinning-with-ball-in-closeup-shot</td>\n",
              "      <td>0.923</td>\n",
              "      <td>33</td>\n",
              "      <td>0.667</td>\n",
              "      <td>12</td>\n",
              "    </tr>\n",
              "    <tr>\n",
              "      <th>2</th>\n",
              "      <td>video6.webm</td>\n",
              "      <td>khr-gangsters</td>\n",
              "      <td>0.863</td>\n",
              "      <td>33</td>\n",
              "      <td>0.700</td>\n",
              "      <td>10</td>\n",
              "    </tr>\n",
              "    <tr>\n",
              "      <th>3</th>\n",
              "      <td>video8.webm</td>\n",
              "      <td>medical-helicopter-hovers-at-airport</td>\n",
              "      <td>0.922</td>\n",
              "      <td>33</td>\n",
              "      <td>0.818</td>\n",
              "      <td>11</td>\n",
              "    </tr>\n",
              "    <tr>\n",
              "      <th>4</th>\n",
              "      <td>video10.webm</td>\n",
              "      <td>couple-relaxing-on-picnic-crane-shot</td>\n",
              "      <td>0.950</td>\n",
              "      <td>34</td>\n",
              "      <td>0.900</td>\n",
              "      <td>10</td>\n",
              "    </tr>\n",
              "    <tr>\n",
              "      <th>...</th>\n",
              "      <td>...</td>\n",
              "      <td>...</td>\n",
              "      <td>...</td>\n",
              "      <td>...</td>\n",
              "      <td>...</td>\n",
              "      <td>...</td>\n",
              "    </tr>\n",
              "    <tr>\n",
              "      <th>5995</th>\n",
              "      <td>video7488.webm</td>\n",
              "      <td>beautiful-young-woman-in-front-of-fountains</td>\n",
              "      <td>0.921</td>\n",
              "      <td>33</td>\n",
              "      <td>1.000</td>\n",
              "      <td>9</td>\n",
              "    </tr>\n",
              "    <tr>\n",
              "      <th>5996</th>\n",
              "      <td>video7489.webm</td>\n",
              "      <td>focus-pull-from-molting-penguin-to-penguin-col...</td>\n",
              "      <td>0.909</td>\n",
              "      <td>53</td>\n",
              "      <td>0.839</td>\n",
              "      <td>31</td>\n",
              "    </tr>\n",
              "    <tr>\n",
              "      <th>5997</th>\n",
              "      <td>video7491.webm</td>\n",
              "      <td>students-walking-in-university-of-mexico</td>\n",
              "      <td>0.713</td>\n",
              "      <td>33</td>\n",
              "      <td>0.818</td>\n",
              "      <td>11</td>\n",
              "    </tr>\n",
              "    <tr>\n",
              "      <th>5998</th>\n",
              "      <td>video7492.webm</td>\n",
              "      <td>beautiful-black-woman-at-spa</td>\n",
              "      <td>0.954</td>\n",
              "      <td>34</td>\n",
              "      <td>1.000</td>\n",
              "      <td>16</td>\n",
              "    </tr>\n",
              "    <tr>\n",
              "      <th>5999</th>\n",
              "      <td>video7493.webm</td>\n",
              "      <td>beautiful-modern-brunette-woman-using-tablet-c...</td>\n",
              "      <td>0.953</td>\n",
              "      <td>33</td>\n",
              "      <td>0.615</td>\n",
              "      <td>13</td>\n",
              "    </tr>\n",
              "  </tbody>\n",
              "</table>\n",
              "<p>6000 rows × 6 columns</p>\n",
              "</div>"
            ],
            "text/plain": [
              "               video  ... nb_long-term_annotations\n",
              "0        video3.webm  ...                       13\n",
              "1        video4.webm  ...                       12\n",
              "2        video6.webm  ...                       10\n",
              "3        video8.webm  ...                       11\n",
              "4       video10.webm  ...                       10\n",
              "...              ...  ...                      ...\n",
              "5995  video7488.webm  ...                        9\n",
              "5996  video7489.webm  ...                       31\n",
              "5997  video7491.webm  ...                       11\n",
              "5998  video7492.webm  ...                       16\n",
              "5999  video7493.webm  ...                       13\n",
              "\n",
              "[6000 rows x 6 columns]"
            ]
          },
          "metadata": {
            "tags": []
          },
          "execution_count": 100
        }
      ]
    },
    {
      "cell_type": "code",
      "metadata": {
        "id": "zke6PqD0Wy_G",
        "colab_type": "code",
        "outputId": "468d858c-ad50-4c32-c02f-3c3b3595fb94",
        "colab": {
          "base_uri": "https://localhost:8080/",
          "height": 34
        }
      },
      "source": [
        "import string\n",
        "string.punctuation"
      ],
      "execution_count": 101,
      "outputs": [
        {
          "output_type": "execute_result",
          "data": {
            "text/plain": [
              "'!\"#$%&\\'()*+,-./:;<=>?@[\\\\]^_`{|}~'"
            ]
          },
          "metadata": {
            "tags": []
          },
          "execution_count": 101
        }
      ]
    },
    {
      "cell_type": "code",
      "metadata": {
        "id": "Rug2GX1AWzbz",
        "colab_type": "code",
        "colab": {}
      },
      "source": [
        "\n",
        "#function to remove punctuation\n",
        "def punct_remove(text):\n",
        "  nopunct_text=\"\".join([char for char in text if char not in string.punctuation])  #it will discard all punctuation\n",
        "  return nopunct_text"
      ],
      "execution_count": 0,
      "outputs": []
    },
    {
      "cell_type": "code",
      "metadata": {
        "id": "M7ZuCv1LXCQY",
        "colab_type": "code",
        "outputId": "dcb58632-4674-48e5-fb34-6354a39e30ea",
        "colab": {
          "base_uri": "https://localhost:8080/",
          "height": 229
        }
      },
      "source": [
        "df_merge['body_text_clean']=df_merge['caption'].apply(lambda x: punct_remove(x))\n",
        "df_merge.head()"
      ],
      "execution_count": 103,
      "outputs": [
        {
          "output_type": "execute_result",
          "data": {
            "text/html": [
              "<div>\n",
              "<style scoped>\n",
              "    .dataframe tbody tr th:only-of-type {\n",
              "        vertical-align: middle;\n",
              "    }\n",
              "\n",
              "    .dataframe tbody tr th {\n",
              "        vertical-align: top;\n",
              "    }\n",
              "\n",
              "    .dataframe thead th {\n",
              "        text-align: right;\n",
              "    }\n",
              "</style>\n",
              "<table border=\"1\" class=\"dataframe\">\n",
              "  <thead>\n",
              "    <tr style=\"text-align: right;\">\n",
              "      <th></th>\n",
              "      <th>video</th>\n",
              "      <th>caption</th>\n",
              "      <th>short-term_memorability</th>\n",
              "      <th>nb_short-term_annotations</th>\n",
              "      <th>long-term_memorability</th>\n",
              "      <th>nb_long-term_annotations</th>\n",
              "      <th>body_text_clean</th>\n",
              "    </tr>\n",
              "  </thead>\n",
              "  <tbody>\n",
              "    <tr>\n",
              "      <th>0</th>\n",
              "      <td>video3.webm</td>\n",
              "      <td>blonde-woman-is-massaged-tilt-down</td>\n",
              "      <td>0.924</td>\n",
              "      <td>34</td>\n",
              "      <td>0.846</td>\n",
              "      <td>13</td>\n",
              "      <td>blondewomanismassagedtiltdown</td>\n",
              "    </tr>\n",
              "    <tr>\n",
              "      <th>1</th>\n",
              "      <td>video4.webm</td>\n",
              "      <td>roulette-table-spinning-with-ball-in-closeup-shot</td>\n",
              "      <td>0.923</td>\n",
              "      <td>33</td>\n",
              "      <td>0.667</td>\n",
              "      <td>12</td>\n",
              "      <td>roulettetablespinningwithballincloseupshot</td>\n",
              "    </tr>\n",
              "    <tr>\n",
              "      <th>2</th>\n",
              "      <td>video6.webm</td>\n",
              "      <td>khr-gangsters</td>\n",
              "      <td>0.863</td>\n",
              "      <td>33</td>\n",
              "      <td>0.700</td>\n",
              "      <td>10</td>\n",
              "      <td>khrgangsters</td>\n",
              "    </tr>\n",
              "    <tr>\n",
              "      <th>3</th>\n",
              "      <td>video8.webm</td>\n",
              "      <td>medical-helicopter-hovers-at-airport</td>\n",
              "      <td>0.922</td>\n",
              "      <td>33</td>\n",
              "      <td>0.818</td>\n",
              "      <td>11</td>\n",
              "      <td>medicalhelicopterhoversatairport</td>\n",
              "    </tr>\n",
              "    <tr>\n",
              "      <th>4</th>\n",
              "      <td>video10.webm</td>\n",
              "      <td>couple-relaxing-on-picnic-crane-shot</td>\n",
              "      <td>0.950</td>\n",
              "      <td>34</td>\n",
              "      <td>0.900</td>\n",
              "      <td>10</td>\n",
              "      <td>couplerelaxingonpicniccraneshot</td>\n",
              "    </tr>\n",
              "  </tbody>\n",
              "</table>\n",
              "</div>"
            ],
            "text/plain": [
              "          video  ...                             body_text_clean\n",
              "0   video3.webm  ...               blondewomanismassagedtiltdown\n",
              "1   video4.webm  ...  roulettetablespinningwithballincloseupshot\n",
              "2   video6.webm  ...                                khrgangsters\n",
              "3   video8.webm  ...            medicalhelicopterhoversatairport\n",
              "4  video10.webm  ...             couplerelaxingonpicniccraneshot\n",
              "\n",
              "[5 rows x 7 columns]"
            ]
          },
          "metadata": {
            "tags": []
          },
          "execution_count": 103
        }
      ]
    },
    {
      "cell_type": "code",
      "metadata": {
        "id": "vlWJ48CnXUtK",
        "colab_type": "code",
        "outputId": "6dabbc58-6962-4c61-99cd-38dbeb03ca9e",
        "colab": {
          "base_uri": "https://localhost:8080/",
          "height": 296
        }
      },
      "source": [
        "import re\n",
        "\n",
        "#function to tokenise\n",
        "\n",
        "def fn_tokenize(text):\n",
        "  tokens1=re.split('\\W+',text)\n",
        "  return tokens1\n",
        "df_merge['tokenized_body']=df_merge['caption'].apply(lambda x: fn_tokenize(x.lower()))\n",
        "df_merge.head()"
      ],
      "execution_count": 104,
      "outputs": [
        {
          "output_type": "execute_result",
          "data": {
            "text/html": [
              "<div>\n",
              "<style scoped>\n",
              "    .dataframe tbody tr th:only-of-type {\n",
              "        vertical-align: middle;\n",
              "    }\n",
              "\n",
              "    .dataframe tbody tr th {\n",
              "        vertical-align: top;\n",
              "    }\n",
              "\n",
              "    .dataframe thead th {\n",
              "        text-align: right;\n",
              "    }\n",
              "</style>\n",
              "<table border=\"1\" class=\"dataframe\">\n",
              "  <thead>\n",
              "    <tr style=\"text-align: right;\">\n",
              "      <th></th>\n",
              "      <th>video</th>\n",
              "      <th>caption</th>\n",
              "      <th>short-term_memorability</th>\n",
              "      <th>nb_short-term_annotations</th>\n",
              "      <th>long-term_memorability</th>\n",
              "      <th>nb_long-term_annotations</th>\n",
              "      <th>body_text_clean</th>\n",
              "      <th>tokenized_body</th>\n",
              "    </tr>\n",
              "  </thead>\n",
              "  <tbody>\n",
              "    <tr>\n",
              "      <th>0</th>\n",
              "      <td>video3.webm</td>\n",
              "      <td>blonde-woman-is-massaged-tilt-down</td>\n",
              "      <td>0.924</td>\n",
              "      <td>34</td>\n",
              "      <td>0.846</td>\n",
              "      <td>13</td>\n",
              "      <td>blondewomanismassagedtiltdown</td>\n",
              "      <td>[blonde, woman, is, massaged, tilt, down]</td>\n",
              "    </tr>\n",
              "    <tr>\n",
              "      <th>1</th>\n",
              "      <td>video4.webm</td>\n",
              "      <td>roulette-table-spinning-with-ball-in-closeup-shot</td>\n",
              "      <td>0.923</td>\n",
              "      <td>33</td>\n",
              "      <td>0.667</td>\n",
              "      <td>12</td>\n",
              "      <td>roulettetablespinningwithballincloseupshot</td>\n",
              "      <td>[roulette, table, spinning, with, ball, in, cl...</td>\n",
              "    </tr>\n",
              "    <tr>\n",
              "      <th>2</th>\n",
              "      <td>video6.webm</td>\n",
              "      <td>khr-gangsters</td>\n",
              "      <td>0.863</td>\n",
              "      <td>33</td>\n",
              "      <td>0.700</td>\n",
              "      <td>10</td>\n",
              "      <td>khrgangsters</td>\n",
              "      <td>[khr, gangsters]</td>\n",
              "    </tr>\n",
              "    <tr>\n",
              "      <th>3</th>\n",
              "      <td>video8.webm</td>\n",
              "      <td>medical-helicopter-hovers-at-airport</td>\n",
              "      <td>0.922</td>\n",
              "      <td>33</td>\n",
              "      <td>0.818</td>\n",
              "      <td>11</td>\n",
              "      <td>medicalhelicopterhoversatairport</td>\n",
              "      <td>[medical, helicopter, hovers, at, airport]</td>\n",
              "    </tr>\n",
              "    <tr>\n",
              "      <th>4</th>\n",
              "      <td>video10.webm</td>\n",
              "      <td>couple-relaxing-on-picnic-crane-shot</td>\n",
              "      <td>0.950</td>\n",
              "      <td>34</td>\n",
              "      <td>0.900</td>\n",
              "      <td>10</td>\n",
              "      <td>couplerelaxingonpicniccraneshot</td>\n",
              "      <td>[couple, relaxing, on, picnic, crane, shot]</td>\n",
              "    </tr>\n",
              "  </tbody>\n",
              "</table>\n",
              "</div>"
            ],
            "text/plain": [
              "          video  ...                                     tokenized_body\n",
              "0   video3.webm  ...          [blonde, woman, is, massaged, tilt, down]\n",
              "1   video4.webm  ...  [roulette, table, spinning, with, ball, in, cl...\n",
              "2   video6.webm  ...                                   [khr, gangsters]\n",
              "3   video8.webm  ...         [medical, helicopter, hovers, at, airport]\n",
              "4  video10.webm  ...        [couple, relaxing, on, picnic, crane, shot]\n",
              "\n",
              "[5 rows x 8 columns]"
            ]
          },
          "metadata": {
            "tags": []
          },
          "execution_count": 104
        }
      ]
    },
    {
      "cell_type": "code",
      "metadata": {
        "id": "DHYbGRKeZZ42",
        "colab_type": "code",
        "colab": {}
      },
      "source": [
        "from sklearn.feature_extraction.text import CountVectorizer\n",
        "vect=CountVectorizer(min_df=1, stop_words='english') # used to remove stopwords"
      ],
      "execution_count": 0,
      "outputs": []
    },
    {
      "cell_type": "code",
      "metadata": {
        "id": "AM-p0Zq8aOd-",
        "colab_type": "code",
        "outputId": "10e06e28-c420-43b4-950d-d9ab99a961e1",
        "colab": {
          "base_uri": "https://localhost:8080/",
          "height": 34
        }
      },
      "source": [
        "X_counts1=vect.fit_transform(df_merge['caption'])\n",
        "print(X_counts1.shape)"
      ],
      "execution_count": 106,
      "outputs": [
        {
          "output_type": "stream",
          "text": [
            "(6000, 5019)\n"
          ],
          "name": "stdout"
        }
      ]
    },
    {
      "cell_type": "code",
      "metadata": {
        "id": "PybyYgZEa1QA",
        "colab_type": "code",
        "colab": {}
      },
      "source": [
        "X_counts1=vect.fit_transform(df_merge['caption'])"
      ],
      "execution_count": 0,
      "outputs": []
    },
    {
      "cell_type": "code",
      "metadata": {
        "id": "-UKTw7OMa-mQ",
        "colab_type": "code",
        "outputId": "601d387f-9478-4aa9-c18c-e4d42a743ed6",
        "colab": {
          "base_uri": "https://localhost:8080/",
          "height": 134
        }
      },
      "source": [
        "\n",
        "X_counts_sequence=X_counts1.toarray()\n",
        "X_counts_sequence"
      ],
      "execution_count": 108,
      "outputs": [
        {
          "output_type": "execute_result",
          "data": {
            "text/plain": [
              "array([[0, 0, 0, ..., 0, 0, 0],\n",
              "       [0, 0, 0, ..., 0, 0, 0],\n",
              "       [0, 0, 0, ..., 0, 0, 0],\n",
              "       ...,\n",
              "       [0, 0, 0, ..., 0, 0, 0],\n",
              "       [0, 0, 0, ..., 0, 0, 0],\n",
              "       [0, 0, 0, ..., 0, 0, 0]])"
            ]
          },
          "metadata": {
            "tags": []
          },
          "execution_count": 108
        }
      ]
    },
    {
      "cell_type": "code",
      "metadata": {
        "id": "8CoLPDOobHTS",
        "colab_type": "code",
        "outputId": "46f38888-7369-46c5-9dfd-afe4aea5560b",
        "colab": {
          "base_uri": "https://localhost:8080/",
          "height": 34
        }
      },
      "source": [
        "print(X_counts_sequence[0])"
      ],
      "execution_count": 109,
      "outputs": [
        {
          "output_type": "stream",
          "text": [
            "[0 0 0 ... 0 0 0]\n"
          ],
          "name": "stdout"
        }
      ]
    },
    {
      "cell_type": "markdown",
      "metadata": {
        "id": "hyvpy_5diQ9L",
        "colab_type": "text"
      },
      "source": [
        "Model"
      ]
    },
    {
      "cell_type": "code",
      "metadata": {
        "id": "kw7E2gPYbLVd",
        "colab_type": "code",
        "colab": {}
      },
      "source": [
        "\n",
        "Y=df_merge[['short-term_memorability','long-term_memorability']].values  #targets\n",
        "X=X_counts_sequence #input"
      ],
      "execution_count": 0,
      "outputs": []
    },
    {
      "cell_type": "code",
      "metadata": {
        "id": "5EP0AxNVbrOa",
        "colab_type": "code",
        "colab": {}
      },
      "source": [
        "X_train, X_test, Y_train, Y_test = train_test_split(X,Y, test_size=0.2, random_state=42)"
      ],
      "execution_count": 0,
      "outputs": []
    },
    {
      "cell_type": "code",
      "metadata": {
        "id": "XTQQ6PGmb2gb",
        "colab_type": "code",
        "outputId": "94d0b1a0-0ad8-4ad8-d53b-54c26f5882d6",
        "colab": {
          "base_uri": "https://localhost:8080/",
          "height": 84
        }
      },
      "source": [
        "print('X_train', X_train.shape)\n",
        "print('X_test', X_test.shape)\n",
        "print('Y_train', Y_train.shape)\n",
        "print('Y_test', Y_test.shape)"
      ],
      "execution_count": 112,
      "outputs": [
        {
          "output_type": "stream",
          "text": [
            "X_train (4800, 5019)\n",
            "X_test (1200, 5019)\n",
            "Y_train (4800, 2)\n",
            "Y_test (1200, 2)\n"
          ],
          "name": "stdout"
        }
      ]
    },
    {
      "cell_type": "code",
      "metadata": {
        "id": "n4sOVsLFb30J",
        "colab_type": "code",
        "outputId": "e6fa3bf8-6ea8-41cc-a154-ddea36261795",
        "colab": {
          "base_uri": "https://localhost:8080/",
          "height": 34
        }
      },
      "source": [
        "n_cols = X_train.shape[1]\n",
        "n_cols"
      ],
      "execution_count": 113,
      "outputs": [
        {
          "output_type": "execute_result",
          "data": {
            "text/plain": [
              "5019"
            ]
          },
          "metadata": {
            "tags": []
          },
          "execution_count": 113
        }
      ]
    },
    {
      "cell_type": "code",
      "metadata": {
        "id": "GhemFjs_cTyn",
        "colab_type": "code",
        "colab": {}
      },
      "source": [
        "import keras\n",
        "from keras.layers import Dense\n",
        "from keras.models import Sequential\n",
        "# Setting up the model using Sequential model\n",
        "model = Sequential()\n",
        "# Add the first layer\n",
        "model.add(Dense(50, activation='relu', input_shape=(n_cols,)))\n",
        "# Add the second layer\n",
        "model.add(layers.Dropout(0.6)) #Dropout consists in randomly setting a fraction rate of input units to 0 at each update during training; helps prevent overfitting.\n",
        "model.add(Dense(32, activation='relu'))\n",
        "# Add the third layer\n",
        "model.add(Dense(32, activation='relu'))\n",
        "\n",
        "# Add the output layer\n",
        "model.add(Dense(2))"
      ],
      "execution_count": 0,
      "outputs": []
    },
    {
      "cell_type": "code",
      "metadata": {
        "id": "h2-VGJZncUH7",
        "colab_type": "code",
        "colab": {}
      },
      "source": [
        "# Compiling the model\n",
        "model.compile(optimizer='rmsprop', loss = 'mean_squared_error')"
      ],
      "execution_count": 0,
      "outputs": []
    },
    {
      "cell_type": "code",
      "metadata": {
        "id": "vQbCNWaBdk1Q",
        "colab_type": "code",
        "outputId": "aff3cf51-39a3-401a-9e79-f4a4857ee71d",
        "colab": {
          "base_uri": "https://localhost:8080/",
          "height": 34
        }
      },
      "source": [
        "# Verifying that model contains information from compiling\n",
        "print(\"Loss function: \" + model.loss)"
      ],
      "execution_count": 116,
      "outputs": [
        {
          "output_type": "stream",
          "text": [
            "Loss function: mean_squared_error\n"
          ],
          "name": "stdout"
        }
      ]
    },
    {
      "cell_type": "code",
      "metadata": {
        "id": "UuDtJJTmdlFc",
        "colab_type": "code",
        "outputId": "4d4eb576-d720-4613-bbf5-8b95e87469b0",
        "colab": {
          "base_uri": "https://localhost:8080/",
          "height": 706
        }
      },
      "source": [
        "# Fitting the model\n",
        "history = model.fit(X_train,Y_train,epochs=20,validation_data=(X_test,Y_test))"
      ],
      "execution_count": 117,
      "outputs": [
        {
          "output_type": "stream",
          "text": [
            "Train on 4800 samples, validate on 1200 samples\n",
            "Epoch 1/20\n",
            "4800/4800 [==============================] - 1s 186us/step - loss: 0.0853 - val_loss: 0.0142\n",
            "Epoch 2/20\n",
            "4800/4800 [==============================] - 1s 167us/step - loss: 0.0141 - val_loss: 0.0134\n",
            "Epoch 3/20\n",
            "4800/4800 [==============================] - 1s 169us/step - loss: 0.0130 - val_loss: 0.0133\n",
            "Epoch 4/20\n",
            "4800/4800 [==============================] - 1s 167us/step - loss: 0.0124 - val_loss: 0.0132\n",
            "Epoch 5/20\n",
            "4800/4800 [==============================] - 1s 172us/step - loss: 0.0117 - val_loss: 0.0134\n",
            "Epoch 6/20\n",
            "4800/4800 [==============================] - 1s 170us/step - loss: 0.0113 - val_loss: 0.0137\n",
            "Epoch 7/20\n",
            "4800/4800 [==============================] - 1s 171us/step - loss: 0.0108 - val_loss: 0.0143\n",
            "Epoch 8/20\n",
            "4800/4800 [==============================] - 1s 170us/step - loss: 0.0104 - val_loss: 0.0141\n",
            "Epoch 9/20\n",
            "4800/4800 [==============================] - 1s 169us/step - loss: 0.0099 - val_loss: 0.0139\n",
            "Epoch 10/20\n",
            "4800/4800 [==============================] - 1s 169us/step - loss: 0.0097 - val_loss: 0.0137\n",
            "Epoch 11/20\n",
            "4800/4800 [==============================] - 1s 168us/step - loss: 0.0095 - val_loss: 0.0139\n",
            "Epoch 12/20\n",
            "4800/4800 [==============================] - 1s 171us/step - loss: 0.0091 - val_loss: 0.0140\n",
            "Epoch 13/20\n",
            "4800/4800 [==============================] - 1s 173us/step - loss: 0.0090 - val_loss: 0.0145\n",
            "Epoch 14/20\n",
            "4800/4800 [==============================] - 1s 168us/step - loss: 0.0088 - val_loss: 0.0145\n",
            "Epoch 15/20\n",
            "4800/4800 [==============================] - 1s 172us/step - loss: 0.0085 - val_loss: 0.0151\n",
            "Epoch 16/20\n",
            "4800/4800 [==============================] - 1s 170us/step - loss: 0.0085 - val_loss: 0.0145\n",
            "Epoch 17/20\n",
            "4800/4800 [==============================] - 1s 166us/step - loss: 0.0083 - val_loss: 0.0142\n",
            "Epoch 18/20\n",
            "4800/4800 [==============================] - 1s 167us/step - loss: 0.0081 - val_loss: 0.0147\n",
            "Epoch 19/20\n",
            "4800/4800 [==============================] - 1s 166us/step - loss: 0.0079 - val_loss: 0.0146\n",
            "Epoch 20/20\n",
            "4800/4800 [==============================] - 1s 171us/step - loss: 0.0079 - val_loss: 0.0149\n"
          ],
          "name": "stdout"
        }
      ]
    },
    {
      "cell_type": "code",
      "metadata": {
        "id": "MrjFloLidyJa",
        "colab_type": "code",
        "outputId": "1c70e83e-3a10-448b-9438-700273336241",
        "colab": {
          "base_uri": "https://localhost:8080/",
          "height": 295
        }
      },
      "source": [
        "#loss Visualisation\n",
        "loss_viz = history.history['loss']\n",
        "val_loss_viz = history.history['val_loss']\n",
        "\n",
        "epochs = range(1,len(loss_viz)+1)\n",
        "\n",
        "plt.plot(epochs,loss_viz,'bo',label='Training loss')\n",
        "plt.plot(epochs,val_loss_viz,'r',label='Validation loss')\n",
        "plt.title('Training and validation loss')\n",
        "plt.xlabel('Epochs')\n",
        "plt.ylabel('Loss')\n",
        "plt.legend()\n",
        "plt.show()"
      ],
      "execution_count": 118,
      "outputs": [
        {
          "output_type": "display_data",
          "data": {
            "image/png": "[encoded data removed]",
            "text/plain": [
              "<Figure size 432x288 with 1 Axes>"
            ]
          },
          "metadata": {
            "tags": [],
            "needs_background": "light"
          }
        }
      ]
    },
    {
      "cell_type": "code",
      "metadata": {
        "id": "31_Zar_Rd9WU",
        "colab_type": "code",
        "outputId": "6854375e-d9dc-4692-d4a3-c5b26ccc7f5d",
        "colab": {
          "base_uri": "https://localhost:8080/",
          "height": 168
        }
      },
      "source": [
        "predictions = model.predict(X_test)\n",
        "print(predictions)\n",
        "Get_score(predictions, Y_test) # Calculating Spearman scores which is best if the value is above 0.300"
      ],
      "execution_count": 119,
      "outputs": [
        {
          "output_type": "stream",
          "text": [
            "[[0.9143589  0.80135113]\n",
            " [0.8945318  0.9056938 ]\n",
            " [0.87871975 0.81387633]\n",
            " ...\n",
            " [0.89208734 0.9006123 ]\n",
            " [0.8878455  0.74307877]\n",
            " [0.8589348  0.7485948 ]]\n",
            "The Spearman's correlation coefficient is: 0.401\n",
            "The Spearman's correlation coefficient is: 0.173\n"
          ],
          "name": "stdout"
        }
      ]
    },
    {
      "cell_type": "code",
      "metadata": {
        "id": "n2y310UBeNGu",
        "colab_type": "code",
        "outputId": "4e1e06bb-29e5-4de7-f797-c7912fd25b38",
        "colab": {
          "base_uri": "https://localhost:8080/",
          "height": 299
        }
      },
      "source": [
        "plt.figure()\n",
        "plt.scatter(predictions[:,0],predictions[:,1],marker='o',c='b')\n",
        "plt.xlabel('short-term-values')\n",
        "plt.ylabel('long-term-values')\n"
      ],
      "execution_count": 120,
      "outputs": [
        {
          "output_type": "execute_result",
          "data": {
            "text/plain": [
              "Text(0, 0.5, 'long-term-values')"
            ]
          },
          "metadata": {
            "tags": []
          },
          "execution_count": 120
        },
        {
          "output_type": "display_data",
          "data": {
            "image/png": "[encoded data removed]",
            "text/plain": [
              "<Figure size 432x288 with 1 Axes>"
            ]
          },
          "metadata": {
            "tags": [],
            "needs_background": "light"
          }
        }
      ]
    },
    {
      "cell_type": "code",
      "metadata": {
        "id": "D2VscrI5_r9u",
        "colab_type": "code",
        "outputId": "4f2642fe-e4db-4f7d-bf4e-25daa26dab01",
        "colab": {
          "base_uri": "https://localhost:8080/",
          "height": 67
        }
      },
      "source": [
        "#loading the nltk stopwords of English\n",
        "nltk.download('stopwords')\n",
        "stopword_count = nltk.corpus.stopwords.words('english')\n",
        "print(f'Length of Stopwords: {len(stopword_count)}')"
      ],
      "execution_count": 121,
      "outputs": [
        {
          "output_type": "stream",
          "text": [
            "[nltk_data] Downloading package stopwords to /root/nltk_data...\n",
            "[nltk_data]   Package stopwords is already up-to-date!\n",
            "Length of Stopwords: 179\n"
          ],
          "name": "stdout"
        }
      ]
    },
    {
      "cell_type": "code",
      "metadata": {
        "id": "0bNFQ8hMCHwb",
        "colab_type": "code",
        "outputId": "5b6a1ffd-3fc2-4d42-e33b-526b5c1a22fb",
        "colab": {
          "base_uri": "https://localhost:8080/",
          "height": 67
        }
      },
      "source": [
        "#Removing punctuations and stop words from captions\n",
        "# setup prograss tracker\n",
        "pbar = pyprind.ProgBar(len(df_cap['caption']), title='Counting word occurrences')\n",
        "for i, cap in enumerate(df_cap['caption']):\n",
        "    # replace punctuations with space\n",
        "    # convert words to lower case \n",
        "    text = ''.join([c if c not in punctuation else ' ' for c in cap]).lower()\n",
        "    #removing stopwords\n",
        "    rmv_stopwords1= ' '.join([word for word in text.split() if word not in stopword_count])\n",
        "    df_cap.loc[i,'caption'] = rmv_stopwords1 #updating the original captions \n",
        "    pbar.update()"
      ],
      "execution_count": 122,
      "outputs": [
        {
          "output_type": "stream",
          "text": [
            "Counting word occurrences\n",
            "0% [##############################] 100% | ETA: 00:00:00\n",
            "Total time elapsed: 00:00:01\n"
          ],
          "name": "stderr"
        }
      ]
    },
    {
      "cell_type": "code",
      "metadata": {
        "id": "30Bt59hJ75B3",
        "colab_type": "code",
        "outputId": "7c886a03-7d1e-4bb2-9dec-83966eff592f",
        "colab": {
          "base_uri": "https://localhost:8080/",
          "height": 195
        }
      },
      "source": [
        "df_cap.head()"
      ],
      "execution_count": 123,
      "outputs": [
        {
          "output_type": "execute_result",
          "data": {
            "text/html": [
              "<div>\n",
              "<style scoped>\n",
              "    .dataframe tbody tr th:only-of-type {\n",
              "        vertical-align: middle;\n",
              "    }\n",
              "\n",
              "    .dataframe tbody tr th {\n",
              "        vertical-align: top;\n",
              "    }\n",
              "\n",
              "    .dataframe thead th {\n",
              "        text-align: right;\n",
              "    }\n",
              "</style>\n",
              "<table border=\"1\" class=\"dataframe\">\n",
              "  <thead>\n",
              "    <tr style=\"text-align: right;\">\n",
              "      <th></th>\n",
              "      <th>video</th>\n",
              "      <th>caption</th>\n",
              "    </tr>\n",
              "  </thead>\n",
              "  <tbody>\n",
              "    <tr>\n",
              "      <th>0</th>\n",
              "      <td>video3.webm</td>\n",
              "      <td>blonde woman massaged tilt</td>\n",
              "    </tr>\n",
              "    <tr>\n",
              "      <th>1</th>\n",
              "      <td>video4.webm</td>\n",
              "      <td>roulette table spinning ball closeup shot</td>\n",
              "    </tr>\n",
              "    <tr>\n",
              "      <th>2</th>\n",
              "      <td>video6.webm</td>\n",
              "      <td>khr gangsters</td>\n",
              "    </tr>\n",
              "    <tr>\n",
              "      <th>3</th>\n",
              "      <td>video8.webm</td>\n",
              "      <td>medical helicopter hovers airport</td>\n",
              "    </tr>\n",
              "    <tr>\n",
              "      <th>4</th>\n",
              "      <td>video10.webm</td>\n",
              "      <td>couple relaxing picnic crane shot</td>\n",
              "    </tr>\n",
              "  </tbody>\n",
              "</table>\n",
              "</div>"
            ],
            "text/plain": [
              "          video                                    caption\n",
              "0   video3.webm                 blonde woman massaged tilt\n",
              "1   video4.webm  roulette table spinning ball closeup shot\n",
              "2   video6.webm                              khr gangsters\n",
              "3   video8.webm          medical helicopter hovers airport\n",
              "4  video10.webm          couple relaxing picnic crane shot"
            ]
          },
          "metadata": {
            "tags": []
          },
          "execution_count": 123
        }
      ]
    },
    {
      "cell_type": "code",
      "metadata": {
        "id": "jwMAW8K78QXj",
        "colab_type": "code",
        "outputId": "a0d0cbab-483b-4d5c-c324-a9e0b3ed61c8",
        "colab": {
          "base_uri": "https://localhost:8080/",
          "height": 34
        }
      },
      "source": [
        "#implementing bag of words for the combined captions\n",
        "from sklearn.feature_extraction.text import CountVectorizer\n",
        "vectorizer_select = CountVectorizer(analyzer = \"word\",max_features=3112) \n",
        "captions_bag = vectorizer_select.fit_transform(df_cap.caption).toarray()\n",
        "type(captions_bag)"
      ],
      "execution_count": 158,
      "outputs": [
        {
          "output_type": "execute_result",
          "data": {
            "text/plain": [
              "numpy.ndarray"
            ]
          },
          "metadata": {
            "tags": []
          },
          "execution_count": 158
        }
      ]
    },
    {
      "cell_type": "code",
      "metadata": {
        "id": "era6yBJU90oL",
        "colab_type": "code",
        "outputId": "a0410f4a-b71c-4e3e-e4b8-6efb0d0c38b4",
        "colab": {
          "base_uri": "https://localhost:8080/",
          "height": 34
        }
      },
      "source": [
        "#to get the dimensions of the array\n",
        "captions_bag.shape"
      ],
      "execution_count": 159,
      "outputs": [
        {
          "output_type": "execute_result",
          "data": {
            "text/plain": [
              "(6000, 3112)"
            ]
          },
          "metadata": {
            "tags": []
          },
          "execution_count": 159
        }
      ]
    },
    {
      "cell_type": "markdown",
      "metadata": {
        "id": "BMhSjdvECm5G",
        "colab_type": "text"
      },
      "source": [
        "SVR with Captions"
      ]
    },
    {
      "cell_type": "code",
      "metadata": {
        "id": "irktDaUoCcDF",
        "colab_type": "code",
        "colab": {}
      },
      "source": [
        "\n",
        "svr_X = captions_bag\n",
        "svr_y_short = labels[['short-term_memorability']].values\n",
        "svr_y_long = labels[['long-term_memorability']].values"
      ],
      "execution_count": 0,
      "outputs": []
    },
    {
      "cell_type": "code",
      "metadata": {
        "id": "3xW4wJTNCqYd",
        "colab_type": "code",
        "colab": {}
      },
      "source": [
        "# Splitting the dataset into the Training set and Test set\n",
        "short_X_train,short_X_test,short_y_train,short_y_test = train_test_split(svr_X,svr_y_short,test_size=0.2,random_state=40)\n",
        "long_X_train,long_X_test,long_y_train,long_y_test = train_test_split(svr_X,svr_y_long,test_size=0.2,random_state=40)"
      ],
      "execution_count": 0,
      "outputs": []
    },
    {
      "cell_type": "code",
      "metadata": {
        "id": "93ax1q2kCcNU",
        "colab_type": "code",
        "colab": {}
      },
      "source": [
        "from sklearn.preprocessing import StandardScaler\n",
        "short_X = StandardScaler()\n",
        "short_y = StandardScaler()\n",
        "short_X_train = short_X.fit_transform(short_X_train)\n",
        "short_y_train = short_y.fit_transform(short_y_train)\n",
        "long_X = StandardScaler()\n",
        "long_y = StandardScaler()\n",
        "long_X_train = long_X.fit_transform(long_X_train)\n",
        "long_y_train = long_y.fit_transform(long_y_train)"
      ],
      "execution_count": 0,
      "outputs": []
    },
    {
      "cell_type": "code",
      "metadata": {
        "id": "W9IrP2tzCcQ-",
        "colab_type": "code",
        "outputId": "6f4f84b2-5919-49a2-9985-febac2609c7e",
        "colab": {
          "base_uri": "https://localhost:8080/",
          "height": 138
        }
      },
      "source": [
        "\n",
        "from sklearn.svm import SVR\n",
        "short_regressor = SVR(kernel = 'rbf')\n",
        "long_regressor = SVR(kernel = 'rbf')\n",
        "short_regressor.fit(short_X_train, short_y_train)\n",
        "long_regressor.fit(long_X_train,long_y_train)"
      ],
      "execution_count": 164,
      "outputs": [
        {
          "output_type": "stream",
          "text": [
            "/usr/local/lib/python3.6/dist-packages/sklearn/utils/validation.py:760: DataConversionWarning: A column-vector y was passed when a 1d array was expected. Please change the shape of y to (n_samples, ), for example using ravel().\n",
            "  y = column_or_1d(y, warn=True)\n",
            "/usr/local/lib/python3.6/dist-packages/sklearn/utils/validation.py:760: DataConversionWarning: A column-vector y was passed when a 1d array was expected. Please change the shape of y to (n_samples, ), for example using ravel().\n",
            "  y = column_or_1d(y, warn=True)\n"
          ],
          "name": "stderr"
        },
        {
          "output_type": "execute_result",
          "data": {
            "text/plain": [
              "SVR(C=1.0, cache_size=200, coef0=0.0, degree=3, epsilon=0.1, gamma='scale',\n",
              "    kernel='rbf', max_iter=-1, shrinking=True, tol=0.001, verbose=False)"
            ]
          },
          "metadata": {
            "tags": []
          },
          "execution_count": 164
        }
      ]
    },
    {
      "cell_type": "code",
      "metadata": {
        "id": "A1QK826NDovu",
        "colab_type": "code",
        "colab": {}
      },
      "source": [
        "short_pred = short_regressor.predict(short_X_test)\n",
        "short_pred = short_y.inverse_transform(short_pred)\n",
        "long_pred = long_regressor.predict(long_X_test)\n",
        "long_pred = long_y.inverse_transform(long_pred)"
      ],
      "execution_count": 0,
      "outputs": []
    },
    {
      "cell_type": "code",
      "metadata": {
        "id": "5sMCbgovD0Jg",
        "colab_type": "code",
        "outputId": "1b834bf9-ce90-468a-d4c5-d788b87d65c4",
        "colab": {
          "base_uri": "https://localhost:8080/",
          "height": 50
        }
      },
      "source": [
        "\n",
        "Get_score(short_pred, short_y_test)\n",
        "Get_score(long_pred, long_y_test)"
      ],
      "execution_count": 166,
      "outputs": [
        {
          "output_type": "stream",
          "text": [
            "The Spearman's correlation coefficient is: 0.338\n",
            "The Spearman's correlation coefficient is: 0.170\n"
          ],
          "name": "stdout"
        }
      ]
    },
    {
      "cell_type": "code",
      "metadata": {
        "id": "kzmQCrWT7oTp",
        "colab_type": "code",
        "colab": {}
      },
      "source": [
        "#Random Forest with captions"
      ],
      "execution_count": 0,
      "outputs": []
    },
    {
      "cell_type": "code",
      "metadata": {
        "id": "qNjsCy0a7sKe",
        "colab_type": "code",
        "colab": {}
      },
      "source": [
        "X = captions_bag\n",
        "y = labels[['short-term_memorability','long-term_memorability']].values"
      ],
      "execution_count": 0,
      "outputs": []
    },
    {
      "cell_type": "code",
      "metadata": {
        "id": "UhuNJmGJ_SFh",
        "colab_type": "code",
        "colab": {}
      },
      "source": [
        "# Splitting the dataset into the Training set and Test set\n",
        "X_train,X_test,y_train,y_test = train_test_split(X,y,test_size=0.25,random_state=43)"
      ],
      "execution_count": 0,
      "outputs": []
    },
    {
      "cell_type": "code",
      "metadata": {
        "id": "kRXkIp5Y_hmZ",
        "colab_type": "code",
        "outputId": "a9aafb7a-2df8-4b95-d1b3-299104b81fde",
        "colab": {
          "base_uri": "https://localhost:8080/",
          "height": 84
        }
      },
      "source": [
        "print('X_train ', X_train.shape)\n",
        "print('X_test  ', X_test.shape)\n",
        "print('Y_train ', y_train.shape)\n",
        "print('Y_test  ', y_test.shape)"
      ],
      "execution_count": 169,
      "outputs": [
        {
          "output_type": "stream",
          "text": [
            "X_train  (4500, 3112)\n",
            "X_test   (1500, 3112)\n",
            "Y_train  (4500, 2)\n",
            "Y_test   (1500, 2)\n"
          ],
          "name": "stdout"
        }
      ]
    },
    {
      "cell_type": "code",
      "metadata": {
        "id": "_MB9SoWJ_mal",
        "colab_type": "code",
        "colab": {}
      },
      "source": [
        "from sklearn.ensemble import RandomForestRegressor\n",
        "captions_rf = RandomForestRegressor(n_estimators=100,random_state=45)"
      ],
      "execution_count": 0,
      "outputs": []
    },
    {
      "cell_type": "code",
      "metadata": {
        "id": "tsFnB3H9ArRq",
        "colab_type": "code",
        "outputId": "f69e65c5-9627-4a34-fbf9-cd67ed70fc6e",
        "colab": {
          "base_uri": "https://localhost:8080/",
          "height": 134
        }
      },
      "source": [
        "captions_rf.fit(X_train,y_train)"
      ],
      "execution_count": 171,
      "outputs": [
        {
          "output_type": "execute_result",
          "data": {
            "text/plain": [
              "RandomForestRegressor(bootstrap=True, ccp_alpha=0.0, criterion='mse',\n",
              "                      max_depth=None, max_features='auto', max_leaf_nodes=None,\n",
              "                      max_samples=None, min_impurity_decrease=0.0,\n",
              "                      min_impurity_split=None, min_samples_leaf=1,\n",
              "                      min_samples_split=2, min_weight_fraction_leaf=0.0,\n",
              "                      n_estimators=100, n_jobs=None, oob_score=False,\n",
              "                      random_state=45, verbose=0, warm_start=False)"
            ]
          },
          "metadata": {
            "tags": []
          },
          "execution_count": 171
        }
      ]
    },
    {
      "cell_type": "code",
      "metadata": {
        "id": "oL1xJXfU_0FQ",
        "colab_type": "code",
        "colab": {}
      },
      "source": [
        "captions_pred = captions_rf.predict(X_test)"
      ],
      "execution_count": 0,
      "outputs": []
    },
    {
      "cell_type": "code",
      "metadata": {
        "id": "4cyR7CsqA9xv",
        "colab_type": "code",
        "outputId": "2ccd42cd-519a-4034-da54-e024404d2414",
        "colab": {
          "base_uri": "https://localhost:8080/",
          "height": 50
        }
      },
      "source": [
        "Get_score(captions_pred, y_test)"
      ],
      "execution_count": 173,
      "outputs": [
        {
          "output_type": "stream",
          "text": [
            "The Spearman's correlation coefficient is: 0.404\n",
            "The Spearman's correlation coefficient is: 0.186\n"
          ],
          "name": "stdout"
        }
      ]
    },
    {
      "cell_type": "code",
      "metadata": {
        "id": "3BpGAFm6IZOj",
        "colab_type": "code",
        "colab": {}
      },
      "source": [
        "#method to extract hmp features\n",
        "\n",
        "def read_HMP(fname):\n",
        "    \"\"\"Scan HMP(Histogram of Motion Patterns) features from file\"\"\"\n",
        "    with open(fname) as f:\n",
        "        for line in f:\n",
        "            pairs=line.split()\n",
        "            HMP_temp = { int(p.split(':')[0]) : float(p.split(':')[1]) for p in pairs}\n",
        "    # there are 6075 bins, fill zeros\n",
        "    HMP = np.zeros(6075)\n",
        "    for idx in HMP_temp.keys():\n",
        "        HMP[idx-1] = HMP_temp[idx]            \n",
        "    return HMP"
      ],
      "execution_count": 0,
      "outputs": []
    },
    {
      "cell_type": "markdown",
      "metadata": {
        "id": "-tCGSZ7_43f2",
        "colab_type": "text"
      },
      "source": [
        "Importing Test Dataset and Captions"
      ]
    },
    {
      "cell_type": "code",
      "metadata": {
        "id": "z30GCQPQBp_h",
        "colab_type": "code",
        "colab": {}
      },
      "source": [
        "\n",
        "\n",
        "\n",
        "# load the ground truth values -test set\n",
        "csv_path = '/content/drive/My Drive/CA684_Assignment/Test-set/Ground-truth_test/ground_truth_template.csv'\n",
        "labels_test = pd.read_csv(csv_path)"
      ],
      "execution_count": 0,
      "outputs": []
    },
    {
      "cell_type": "code",
      "metadata": {
        "id": "z48a_aBGW-4b",
        "colab_type": "code",
        "colab": {}
      },
      "source": [
        "# load the captions - test set\n",
        "cap_path = '/content/drive/My Drive/CA684_Assignment/Test-set/Captions_test/test-set-1_video-captions.txt'\n",
        "test_captions=read_caps(cap_path)"
      ],
      "execution_count": 0,
      "outputs": []
    },
    {
      "cell_type": "code",
      "metadata": {
        "id": "rFwn9KHA7K24",
        "colab_type": "code",
        "outputId": "49117366-a3a3-4a53-a42c-95355dc15775",
        "colab": {
          "base_uri": "https://localhost:8080/",
          "height": 195
        }
      },
      "source": [
        "labels_test.head()"
      ],
      "execution_count": 143,
      "outputs": [
        {
          "output_type": "execute_result",
          "data": {
            "text/html": [
              "<div>\n",
              "<style scoped>\n",
              "    .dataframe tbody tr th:only-of-type {\n",
              "        vertical-align: middle;\n",
              "    }\n",
              "\n",
              "    .dataframe tbody tr th {\n",
              "        vertical-align: top;\n",
              "    }\n",
              "\n",
              "    .dataframe thead th {\n",
              "        text-align: right;\n",
              "    }\n",
              "</style>\n",
              "<table border=\"1\" class=\"dataframe\">\n",
              "  <thead>\n",
              "    <tr style=\"text-align: right;\">\n",
              "      <th></th>\n",
              "      <th>video</th>\n",
              "      <th>short-term_memorability</th>\n",
              "      <th>nb_short-term_annotations</th>\n",
              "      <th>long-term_memorability</th>\n",
              "      <th>nb_long-term_annotations</th>\n",
              "    </tr>\n",
              "  </thead>\n",
              "  <tbody>\n",
              "    <tr>\n",
              "      <th>0</th>\n",
              "      <td>7494</td>\n",
              "      <td>NaN</td>\n",
              "      <td>33</td>\n",
              "      <td>NaN</td>\n",
              "      <td>12</td>\n",
              "    </tr>\n",
              "    <tr>\n",
              "      <th>1</th>\n",
              "      <td>7495</td>\n",
              "      <td>NaN</td>\n",
              "      <td>34</td>\n",
              "      <td>NaN</td>\n",
              "      <td>10</td>\n",
              "    </tr>\n",
              "    <tr>\n",
              "      <th>2</th>\n",
              "      <td>7496</td>\n",
              "      <td>NaN</td>\n",
              "      <td>32</td>\n",
              "      <td>NaN</td>\n",
              "      <td>13</td>\n",
              "    </tr>\n",
              "    <tr>\n",
              "      <th>3</th>\n",
              "      <td>7497</td>\n",
              "      <td>NaN</td>\n",
              "      <td>33</td>\n",
              "      <td>NaN</td>\n",
              "      <td>10</td>\n",
              "    </tr>\n",
              "    <tr>\n",
              "      <th>4</th>\n",
              "      <td>7498</td>\n",
              "      <td>NaN</td>\n",
              "      <td>33</td>\n",
              "      <td>NaN</td>\n",
              "      <td>10</td>\n",
              "    </tr>\n",
              "  </tbody>\n",
              "</table>\n",
              "</div>"
            ],
            "text/plain": [
              "   video  ...  nb_long-term_annotations\n",
              "0   7494  ...                        12\n",
              "1   7495  ...                        10\n",
              "2   7496  ...                        13\n",
              "3   7497  ...                        10\n",
              "4   7498  ...                        10\n",
              "\n",
              "[5 rows x 5 columns]"
            ]
          },
          "metadata": {
            "tags": []
          },
          "execution_count": 143
        }
      ]
    },
    {
      "cell_type": "code",
      "metadata": {
        "id": "q9Yank0Q9q32",
        "colab_type": "code",
        "outputId": "5d9949f6-e214-49b3-826e-3f5230feb061",
        "colab": {
          "base_uri": "https://localhost:8080/",
          "height": 195
        }
      },
      "source": [
        "test_captions.head()"
      ],
      "execution_count": 144,
      "outputs": [
        {
          "output_type": "execute_result",
          "data": {
            "text/html": [
              "<div>\n",
              "<style scoped>\n",
              "    .dataframe tbody tr th:only-of-type {\n",
              "        vertical-align: middle;\n",
              "    }\n",
              "\n",
              "    .dataframe tbody tr th {\n",
              "        vertical-align: top;\n",
              "    }\n",
              "\n",
              "    .dataframe thead th {\n",
              "        text-align: right;\n",
              "    }\n",
              "</style>\n",
              "<table border=\"1\" class=\"dataframe\">\n",
              "  <thead>\n",
              "    <tr style=\"text-align: right;\">\n",
              "      <th></th>\n",
              "      <th>video</th>\n",
              "      <th>caption</th>\n",
              "    </tr>\n",
              "  </thead>\n",
              "  <tbody>\n",
              "    <tr>\n",
              "      <th>0</th>\n",
              "      <td>video7494.webm</td>\n",
              "      <td>green-jeep-struggling-to-drive-over-huge-rocks</td>\n",
              "    </tr>\n",
              "    <tr>\n",
              "      <th>1</th>\n",
              "      <td>video7495.webm</td>\n",
              "      <td>hiking-woman-tourist-is-walking-forward-in-mou...</td>\n",
              "    </tr>\n",
              "    <tr>\n",
              "      <th>2</th>\n",
              "      <td>video7496.webm</td>\n",
              "      <td>close-up-of-african-american-doctors-hands-usi...</td>\n",
              "    </tr>\n",
              "    <tr>\n",
              "      <th>3</th>\n",
              "      <td>video7497.webm</td>\n",
              "      <td>slow-motion-of-a-man-using-treadmill-in-the-gy...</td>\n",
              "    </tr>\n",
              "    <tr>\n",
              "      <th>4</th>\n",
              "      <td>video7498.webm</td>\n",
              "      <td>slow-motion-of-photographer-in-national-park</td>\n",
              "    </tr>\n",
              "  </tbody>\n",
              "</table>\n",
              "</div>"
            ],
            "text/plain": [
              "            video                                            caption\n",
              "0  video7494.webm     green-jeep-struggling-to-drive-over-huge-rocks\n",
              "1  video7495.webm  hiking-woman-tourist-is-walking-forward-in-mou...\n",
              "2  video7496.webm  close-up-of-african-american-doctors-hands-usi...\n",
              "3  video7497.webm  slow-motion-of-a-man-using-treadmill-in-the-gy...\n",
              "4  video7498.webm       slow-motion-of-photographer-in-national-park"
            ]
          },
          "metadata": {
            "tags": []
          },
          "execution_count": 144
        }
      ]
    },
    {
      "cell_type": "code",
      "metadata": {
        "id": "XVWy3yAj93ep",
        "colab_type": "code",
        "outputId": "6eb80a6a-c0b1-4574-c2bb-645fb99f7b1f",
        "colab": {
          "base_uri": "https://localhost:8080/",
          "height": 50
        }
      },
      "source": [
        "#printing the dimensions of test-set ground thruth dataset and captions test features\n",
        "print(f'Test-Dataset : {labels_test.shape}')\n",
        "print(f'Test-Captions: {test_captions.shape}')"
      ],
      "execution_count": 145,
      "outputs": [
        {
          "output_type": "stream",
          "text": [
            "Test-Dataset : (2000, 5)\n",
            "Test-Captions: (2000, 2)\n"
          ],
          "name": "stdout"
        }
      ]
    },
    {
      "cell_type": "code",
      "metadata": {
        "id": "sNopFgvq-4NC",
        "colab_type": "code",
        "outputId": "de456861-3477-4074-993d-9df1268ea4a6",
        "colab": {
          "base_uri": "https://localhost:8080/",
          "height": 67
        }
      },
      "source": [
        "#Removing punctuations and stop words from captions\n",
        "pbar = pyprind.ProgBar(len(test_captions['caption']), title='Counting word occurrences')\n",
        "for i, cap in enumerate(test_captions['caption']):\n",
        "    # replace punctuations with space\n",
        "    # convert words to lower case \n",
        "    text = ''.join([c if c not in punctuation else ' ' for c in cap]).lower()\n",
        "    # stopwords removal\n",
        "    stopwords_rem= ' '.join([word for word in text.split() if word not in stopword_count])\n",
        "    test_captions.loc[i,'caption'] = stopwords_rem #Original captions updation \n",
        "    pbar.update()"
      ],
      "execution_count": 146,
      "outputs": [
        {
          "output_type": "stream",
          "text": [
            "Counting word occurrences\n",
            "0% [##############################] 100% | ETA: 00:00:00\n",
            "Total time elapsed: 00:00:00\n"
          ],
          "name": "stderr"
        }
      ]
    },
    {
      "cell_type": "code",
      "metadata": {
        "id": "gp8hk4BfAHCd",
        "colab_type": "code",
        "outputId": "695e9cd5-c7c7-4d2f-8d92-2d7b4f216079",
        "colab": {
          "base_uri": "https://localhost:8080/",
          "height": 195
        }
      },
      "source": [
        "test_captions.head()"
      ],
      "execution_count": 147,
      "outputs": [
        {
          "output_type": "execute_result",
          "data": {
            "text/html": [
              "<div>\n",
              "<style scoped>\n",
              "    .dataframe tbody tr th:only-of-type {\n",
              "        vertical-align: middle;\n",
              "    }\n",
              "\n",
              "    .dataframe tbody tr th {\n",
              "        vertical-align: top;\n",
              "    }\n",
              "\n",
              "    .dataframe thead th {\n",
              "        text-align: right;\n",
              "    }\n",
              "</style>\n",
              "<table border=\"1\" class=\"dataframe\">\n",
              "  <thead>\n",
              "    <tr style=\"text-align: right;\">\n",
              "      <th></th>\n",
              "      <th>video</th>\n",
              "      <th>caption</th>\n",
              "    </tr>\n",
              "  </thead>\n",
              "  <tbody>\n",
              "    <tr>\n",
              "      <th>0</th>\n",
              "      <td>video7494.webm</td>\n",
              "      <td>green jeep struggling drive huge rocks</td>\n",
              "    </tr>\n",
              "    <tr>\n",
              "      <th>1</th>\n",
              "      <td>video7495.webm</td>\n",
              "      <td>hiking woman tourist walking forward mountains...</td>\n",
              "    </tr>\n",
              "    <tr>\n",
              "      <th>2</th>\n",
              "      <td>video7496.webm</td>\n",
              "      <td>close african american doctors hands using sph...</td>\n",
              "    </tr>\n",
              "    <tr>\n",
              "      <th>3</th>\n",
              "      <td>video7497.webm</td>\n",
              "      <td>slow motion man using treadmill gym regular ph...</td>\n",
              "    </tr>\n",
              "    <tr>\n",
              "      <th>4</th>\n",
              "      <td>video7498.webm</td>\n",
              "      <td>slow motion photographer national park</td>\n",
              "    </tr>\n",
              "  </tbody>\n",
              "</table>\n",
              "</div>"
            ],
            "text/plain": [
              "            video                                            caption\n",
              "0  video7494.webm             green jeep struggling drive huge rocks\n",
              "1  video7495.webm  hiking woman tourist walking forward mountains...\n",
              "2  video7496.webm  close african american doctors hands using sph...\n",
              "3  video7497.webm  slow motion man using treadmill gym regular ph...\n",
              "4  video7498.webm             slow motion photographer national park"
            ]
          },
          "metadata": {
            "tags": []
          },
          "execution_count": 147
        }
      ]
    },
    {
      "cell_type": "code",
      "metadata": {
        "id": "QmwRd-geAI1e",
        "colab_type": "code",
        "outputId": "c44bcbb3-6832-4cf2-bcd8-e5b3a29626af",
        "colab": {
          "base_uri": "https://localhost:8080/",
          "height": 34
        }
      },
      "source": [
        "#For the combined captions bag of words are implemented \n",
        "from sklearn.feature_extraction.text import CountVectorizer\n",
        "vectorizer = CountVectorizer(analyzer = \"word\",max_features=3122) \n",
        "test_bag_captions = vectorizer.fit_transform(test_captions.caption).toarray()\n",
        "type(test_bag_captions)"
      ],
      "execution_count": 148,
      "outputs": [
        {
          "output_type": "execute_result",
          "data": {
            "text/plain": [
              "numpy.ndarray"
            ]
          },
          "metadata": {
            "tags": []
          },
          "execution_count": 148
        }
      ]
    },
    {
      "cell_type": "code",
      "metadata": {
        "id": "e0O5TV5NBafR",
        "colab_type": "code",
        "outputId": "6f12a81e-b670-45a1-fee4-08d97c977bd1",
        "colab": {
          "base_uri": "https://localhost:8080/",
          "height": 50
        }
      },
      "source": [
        "print(f'Development Vocabulary Size   : {len(captions_bag[0])}')\n",
        "print(f'Testing Vocabulary Size       : {len(test_bag_captions[0])}')"
      ],
      "execution_count": 149,
      "outputs": [
        {
          "output_type": "stream",
          "text": [
            "Development Vocabulary Size   : 3112\n",
            "Testing Vocabulary Size       : 3112\n"
          ],
          "name": "stdout"
        }
      ]
    },
    {
      "cell_type": "markdown",
      "metadata": {
        "id": "lwQF3VvICLTX",
        "colab_type": "text"
      },
      "source": [
        "Scores prediction and Exporting the Results"
      ]
    },
    {
      "cell_type": "code",
      "metadata": {
        "id": "FHAUB7Q9BqL_",
        "colab_type": "code",
        "colab": {}
      },
      "source": [
        "test_pred = captions_rf.predict(test_bag_captions)"
      ],
      "execution_count": 0,
      "outputs": []
    },
    {
      "cell_type": "code",
      "metadata": {
        "id": "4tfmmwnLBwBB",
        "colab_type": "code",
        "colab": {}
      },
      "source": [
        "pred = pd.DataFrame()"
      ],
      "execution_count": 0,
      "outputs": []
    },
    {
      "cell_type": "code",
      "metadata": {
        "id": "d29m5MWPBabK",
        "colab_type": "code",
        "outputId": "812e22ed-27dc-421e-842c-73b82b60442a",
        "colab": {
          "base_uri": "https://localhost:8080/",
          "height": 34
        }
      },
      "source": [
        "type(test_pred)"
      ],
      "execution_count": 152,
      "outputs": [
        {
          "output_type": "execute_result",
          "data": {
            "text/plain": [
              "numpy.ndarray"
            ]
          },
          "metadata": {
            "tags": []
          },
          "execution_count": 152
        }
      ]
    },
    {
      "cell_type": "code",
      "metadata": {
        "id": "iiWcEL7QCcdf",
        "colab_type": "code",
        "colab": {}
      },
      "source": [
        "pred['short-term'] = test_pred[:,0]"
      ],
      "execution_count": 0,
      "outputs": []
    },
    {
      "cell_type": "code",
      "metadata": {
        "id": "s5WBh5GnCfLI",
        "colab_type": "code",
        "colab": {}
      },
      "source": [
        "pred['long-term'] = test_pred[:,1]"
      ],
      "execution_count": 0,
      "outputs": []
    },
    {
      "cell_type": "code",
      "metadata": {
        "id": "9keP08hoCgiX",
        "colab_type": "code",
        "outputId": "99d6e7ac-2cb8-4fa4-90a2-3e0bde6a248e",
        "colab": {
          "base_uri": "https://localhost:8080/",
          "height": 284
        }
      },
      "source": [
        "pred.describe()"
      ],
      "execution_count": 155,
      "outputs": [
        {
          "output_type": "execute_result",
          "data": {
            "text/html": [
              "<div>\n",
              "<style scoped>\n",
              "    .dataframe tbody tr th:only-of-type {\n",
              "        vertical-align: middle;\n",
              "    }\n",
              "\n",
              "    .dataframe tbody tr th {\n",
              "        vertical-align: top;\n",
              "    }\n",
              "\n",
              "    .dataframe thead th {\n",
              "        text-align: right;\n",
              "    }\n",
              "</style>\n",
              "<table border=\"1\" class=\"dataframe\">\n",
              "  <thead>\n",
              "    <tr style=\"text-align: right;\">\n",
              "      <th></th>\n",
              "      <th>short-term</th>\n",
              "      <th>long-term</th>\n",
              "    </tr>\n",
              "  </thead>\n",
              "  <tbody>\n",
              "    <tr>\n",
              "      <th>count</th>\n",
              "      <td>2000.000000</td>\n",
              "      <td>2000.000000</td>\n",
              "    </tr>\n",
              "    <tr>\n",
              "      <th>mean</th>\n",
              "      <td>0.847639</td>\n",
              "      <td>0.745825</td>\n",
              "    </tr>\n",
              "    <tr>\n",
              "      <th>std</th>\n",
              "      <td>0.034477</td>\n",
              "      <td>0.066337</td>\n",
              "    </tr>\n",
              "    <tr>\n",
              "      <th>min</th>\n",
              "      <td>0.673031</td>\n",
              "      <td>0.470359</td>\n",
              "    </tr>\n",
              "    <tr>\n",
              "      <th>25%</th>\n",
              "      <td>0.829784</td>\n",
              "      <td>0.714741</td>\n",
              "    </tr>\n",
              "    <tr>\n",
              "      <th>50%</th>\n",
              "      <td>0.851416</td>\n",
              "      <td>0.750103</td>\n",
              "    </tr>\n",
              "    <tr>\n",
              "      <th>75%</th>\n",
              "      <td>0.870644</td>\n",
              "      <td>0.785890</td>\n",
              "    </tr>\n",
              "    <tr>\n",
              "      <th>max</th>\n",
              "      <td>0.955108</td>\n",
              "      <td>0.951378</td>\n",
              "    </tr>\n",
              "  </tbody>\n",
              "</table>\n",
              "</div>"
            ],
            "text/plain": [
              "        short-term    long-term\n",
              "count  2000.000000  2000.000000\n",
              "mean      0.847639     0.745825\n",
              "std       0.034477     0.066337\n",
              "min       0.673031     0.470359\n",
              "25%       0.829784     0.714741\n",
              "50%       0.851416     0.750103\n",
              "75%       0.870644     0.785890\n",
              "max       0.955108     0.951378"
            ]
          },
          "metadata": {
            "tags": []
          },
          "execution_count": 155
        }
      ]
    },
    {
      "cell_type": "code",
      "metadata": {
        "id": "Z_K9qC8hCnnN",
        "colab_type": "code",
        "colab": {}
      },
      "source": [
        "pred.to_csv('/content/drive/My Drive/predictions.csv')"
      ],
      "execution_count": 0,
      "outputs": []
    },
    {
      "cell_type": "code",
      "metadata": {
        "id": "R3mMMWr89nAM",
        "colab_type": "code",
        "colab": {}
      },
      "source": [
        "model.save('/content/drive/My Drive/my_model.h5')  # creates a HDF5 file 'my_model.h5'"
      ],
      "execution_count": 0,
      "outputs": []
    }
  ]
}